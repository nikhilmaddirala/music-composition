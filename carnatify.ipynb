{
 "cells": [
  {
   "cell_type": "markdown",
   "metadata": {},
   "source": [
    "# Parsing GKA\n",
    "\n",
    "1 - extract plain notation as a score without pitch bends\n",
    "2 - add gamakams and pitchbends to MIDI"
   ]
  },
  {
   "cell_type": "code",
   "execution_count": null,
   "metadata": {},
   "outputs": [],
   "source": [
    "test_input = \"\"\"\n",
    "Sa- Sa - Sa  -   ni   da-  ni  - Sa-\n",
    "Sa- Sa - Sa  -  ((ni<< Sa ni<< ,)) \\ da- /(Sa ni<<)- Sa-\n",
    "ni - da- pa -  da - pa-   ma  -pa-\n",
    "(/Sa ni<<)-  da- pa - /da - pa- ((pa. ma<< pa.))-pa-\n",
    "\"\"\"\n",
    "\n",
    "hbd_plain = \"\"\"\n",
    "pa - pa - da, - pa, - Sa, - ni,, -\n",
    "pa - pa - da, - pa, - Ri, - Sa,, -\n",
    "pa - pa - Pa, - Ga, - Sa, - ni, - da, -\n",
    "\"\"\""
   ]
  },
  {
   "cell_type": "code",
   "execution_count": null,
   "metadata": {},
   "outputs": [],
   "source": [
    "import re\n",
    "\n",
    "# Define token types and patterns\n",
    "TOKEN_SPECIFICATION = [\n",
    "    ('BRACKET_OPEN', r'\\(\\(*'),      # One or more '('\n",
    "    ('BRACKET_CLOSE', r'\\)\\)*'),     # One or more ')'\n",
    "    ('MODIFIER', r'[.,;]'),          # Duration modifiers\n",
    "    ('FREQ_MOD', r'[<>]+'),          # Frequency modifiers\n",
    "    ('ORNAMENT', r'[\\/\\\\-]+'),       # Slides and separators\n",
    "    ('NOTE', r'[srgmpdn][ai]?(\\d)?\\*?'),  # Notes with optional variants\n",
    "    ('WHITESPACE', r'\\s+'),          # Whitespace\n",
    "    ('COMMENT', r'\\[.*?\\]'),         # Comments enclosed in []\n",
    "    ('UNKNOWN', r'.'),               # Any other character\n",
    "]\n",
    "\n",
    "# Compile the regex patterns\n",
    "TOKENS_REGEX = '|'.join('(?P<%s>%s)' % pair for pair in TOKEN_SPECIFICATION)\n",
    "token_re = re.compile(TOKENS_REGEX, re.IGNORECASE)\n"
   ]
  },
  {
   "cell_type": "code",
   "execution_count": null,
   "metadata": {},
   "outputs": [],
   "source": []
  },
  {
   "cell_type": "markdown",
   "metadata": {},
   "source": []
  },
  {
   "cell_type": "markdown",
   "metadata": {},
   "source": [
    "Prompt: write a python program to parse\n",
    "\n",
    "===EXAMPLE TEXT 1===\n",
    "\n",
    "===EXAMPLE TEXT 2===\n",
    "\n",
    "===EXPLANATION==="
   ]
  },
  {
   "cell_type": "markdown",
   "metadata": {},
   "source": []
  }
 ],
 "metadata": {
  "language_info": {
   "name": "python"
  }
 },
 "nbformat": 4,
 "nbformat_minor": 2
}
