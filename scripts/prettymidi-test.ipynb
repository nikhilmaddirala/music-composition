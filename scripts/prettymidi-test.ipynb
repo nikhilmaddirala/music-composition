{
 "cells": [
  {
   "cell_type": "markdown",
   "metadata": {},
   "source": []
  },
  {
   "cell_type": "markdown",
   "metadata": {},
   "source": [
    "# testing playback\n",
    "\n",
    "- fluidsynth - not working itself, but working in prettymidi!\n",
    "- basic synthesizer - working but no timbre or instruments\n",
    "- musescore - working!\n",
    "- tinysoundfont - not working"
   ]
  },
  {
   "cell_type": "code",
   "execution_count": 10,
   "metadata": {},
   "outputs": [],
   "source": [
    "midi_carnatic = '/workspaces/music-composition/Carnatic Tripod/midi/Carnatic Music MIDI.mid'\n",
    "midi_beatles = '/workspaces/music-composition/example.mid'"
   ]
  },
  {
   "cell_type": "code",
   "execution_count": 12,
   "metadata": {},
   "outputs": [],
   "source": [
    "import pretty_midi\n",
    "import IPython\n",
    "pm = pretty_midi.PrettyMIDI(midi_carnatic)\n",
    "inst = pretty_midi.Instrument(program=105, is_drum=False, name='test')\n",
    "pm.instruments.append(inst)"
   ]
  },
  {
   "cell_type": "code",
   "execution_count": 15,
   "metadata": {},
   "outputs": [],
   "source": [
    "# IPython.display.Audio(pm.fluidsynth(fs=44100), rate=44100)"
   ]
  },
  {
   "cell_type": "code",
   "execution_count": null,
   "metadata": {},
   "outputs": [],
   "source": [
    "# play score in pretty midi fluidsynth\n",
    "temp_path = '/workspaces/music-composition/temp.mid'\n",
    "score.write(‘midi’, fp=temp_path)\n",
    "pm = pretty_midi.PrettyMIDI(temp_path)\n",
    "pm.fluidsynth()"
   ]
  },
  {
   "cell_type": "code",
   "execution_count": null,
   "metadata": {},
   "outputs": [],
   "source": []
  },
  {
   "cell_type": "code",
   "execution_count": null,
   "metadata": {},
   "outputs": [],
   "source": []
  },
  {
   "cell_type": "code",
   "execution_count": 16,
   "metadata": {},
   "outputs": [
    {
     "ename": "AttributeError",
     "evalue": "'Score' object has no attribute 'read'",
     "output_type": "error",
     "traceback": [
      "\u001b[0;31m---------------------------------------------------------------------------\u001b[0m",
      "\u001b[0;31mAttributeError\u001b[0m                            Traceback (most recent call last)",
      "Cell \u001b[0;32mIn[16], line 9\u001b[0m\n\u001b[1;32m      7\u001b[0m \u001b[38;5;66;03m# Create a Stream\u001b[39;00m\n\u001b[1;32m      8\u001b[0m score \u001b[38;5;241m=\u001b[39m music21\u001b[38;5;241m.\u001b[39mconverter\u001b[38;5;241m.\u001b[39mparse(midi_carnatic)\n\u001b[0;32m----> 9\u001b[0m pm \u001b[38;5;241m=\u001b[39m \u001b[43mpretty_midi\u001b[49m\u001b[38;5;241;43m.\u001b[39;49m\u001b[43mPrettyMIDI\u001b[49m\u001b[43m(\u001b[49m\u001b[43mscore\u001b[49m\u001b[43m)\u001b[49m\n",
      "File \u001b[0;32m/usr/local/python/3.12.1/lib/python3.12/site-packages/pretty_midi/pretty_midi.py:66\u001b[0m, in \u001b[0;36mPrettyMIDI.__init__\u001b[0;34m(self, midi_file, resolution, initial_tempo)\u001b[0m\n\u001b[1;32m     63\u001b[0m     midi_data \u001b[38;5;241m=\u001b[39m mido\u001b[38;5;241m.\u001b[39mMidiFile(filename\u001b[38;5;241m=\u001b[39mmidi_file)\n\u001b[1;32m     64\u001b[0m \u001b[38;5;28;01melse\u001b[39;00m:\n\u001b[1;32m     65\u001b[0m     \u001b[38;5;66;03m# Otherwise, try passing it in as a file pointer\u001b[39;00m\n\u001b[0;32m---> 66\u001b[0m     midi_data \u001b[38;5;241m=\u001b[39m \u001b[43mmido\u001b[49m\u001b[38;5;241;43m.\u001b[39;49m\u001b[43mMidiFile\u001b[49m\u001b[43m(\u001b[49m\u001b[43mfile\u001b[49m\u001b[38;5;241;43m=\u001b[39;49m\u001b[43mmidi_file\u001b[49m\u001b[43m)\u001b[49m\n\u001b[1;32m     68\u001b[0m \u001b[38;5;66;03m# Convert tick values in midi_data to absolute, a useful thing.\u001b[39;00m\n\u001b[1;32m     69\u001b[0m \u001b[38;5;28;01mfor\u001b[39;00m track \u001b[38;5;129;01min\u001b[39;00m midi_data\u001b[38;5;241m.\u001b[39mtracks:\n",
      "File \u001b[0;32m/usr/local/python/3.12.1/lib/python3.12/site-packages/mido/midifiles/midifiles.py:317\u001b[0m, in \u001b[0;36mMidiFile.__init__\u001b[0;34m(self, filename, file, type, ticks_per_beat, charset, debug, clip, tracks)\u001b[0m\n\u001b[1;32m    315\u001b[0m     \u001b[38;5;28mself\u001b[39m\u001b[38;5;241m.\u001b[39mtracks \u001b[38;5;241m=\u001b[39m tracks\n\u001b[1;32m    316\u001b[0m \u001b[38;5;28;01melif\u001b[39;00m file \u001b[38;5;129;01mis\u001b[39;00m \u001b[38;5;129;01mnot\u001b[39;00m \u001b[38;5;28;01mNone\u001b[39;00m:\n\u001b[0;32m--> 317\u001b[0m     \u001b[38;5;28;43mself\u001b[39;49m\u001b[38;5;241;43m.\u001b[39;49m\u001b[43m_load\u001b[49m\u001b[43m(\u001b[49m\u001b[43mfile\u001b[49m\u001b[43m)\u001b[49m\n\u001b[1;32m    318\u001b[0m \u001b[38;5;28;01melif\u001b[39;00m \u001b[38;5;28mself\u001b[39m\u001b[38;5;241m.\u001b[39mfilename \u001b[38;5;129;01mis\u001b[39;00m \u001b[38;5;129;01mnot\u001b[39;00m \u001b[38;5;28;01mNone\u001b[39;00m:\n\u001b[1;32m    319\u001b[0m     \u001b[38;5;28;01mwith\u001b[39;00m \u001b[38;5;28mopen\u001b[39m(filename, \u001b[38;5;124m'\u001b[39m\u001b[38;5;124mrb\u001b[39m\u001b[38;5;124m'\u001b[39m) \u001b[38;5;28;01mas\u001b[39;00m file:\n",
      "File \u001b[0;32m/usr/local/python/3.12.1/lib/python3.12/site-packages/mido/midifiles/midifiles.py:360\u001b[0m, in \u001b[0;36mMidiFile._load\u001b[0;34m(self, infile)\u001b[0m\n\u001b[1;32m    355\u001b[0m \u001b[38;5;28;01mif\u001b[39;00m \u001b[38;5;28mself\u001b[39m\u001b[38;5;241m.\u001b[39mdebug:\n\u001b[1;32m    356\u001b[0m     _dbg(\u001b[38;5;124m'\u001b[39m\u001b[38;5;124mHeader:\u001b[39m\u001b[38;5;124m'\u001b[39m)\n\u001b[1;32m    358\u001b[0m (\u001b[38;5;28mself\u001b[39m\u001b[38;5;241m.\u001b[39mtype,\n\u001b[1;32m    359\u001b[0m  num_tracks,\n\u001b[0;32m--> 360\u001b[0m  \u001b[38;5;28mself\u001b[39m\u001b[38;5;241m.\u001b[39mticks_per_beat) \u001b[38;5;241m=\u001b[39m \u001b[43mread_file_header\u001b[49m\u001b[43m(\u001b[49m\u001b[43minfile\u001b[49m\u001b[43m)\u001b[49m\n\u001b[1;32m    362\u001b[0m \u001b[38;5;28;01mif\u001b[39;00m \u001b[38;5;28mself\u001b[39m\u001b[38;5;241m.\u001b[39mdebug:\n\u001b[1;32m    363\u001b[0m     _dbg(\u001b[38;5;124m'\u001b[39m\u001b[38;5;124m-> type=\u001b[39m\u001b[38;5;132;01m{}\u001b[39;00m\u001b[38;5;124m, tracks=\u001b[39m\u001b[38;5;132;01m{}\u001b[39;00m\u001b[38;5;124m, ticks_per_beat=\u001b[39m\u001b[38;5;132;01m{}\u001b[39;00m\u001b[38;5;124m'\u001b[39m\u001b[38;5;241m.\u001b[39mformat(\n\u001b[1;32m    364\u001b[0m         \u001b[38;5;28mself\u001b[39m\u001b[38;5;241m.\u001b[39mtype, num_tracks, \u001b[38;5;28mself\u001b[39m\u001b[38;5;241m.\u001b[39mticks_per_beat))\n",
      "File \u001b[0;32m/usr/local/python/3.12.1/lib/python3.12/site-packages/mido/midifiles/midifiles.py:103\u001b[0m, in \u001b[0;36mread_file_header\u001b[0;34m(infile)\u001b[0m\n\u001b[1;32m    102\u001b[0m \u001b[38;5;28;01mdef\u001b[39;00m \u001b[38;5;21mread_file_header\u001b[39m(infile):\n\u001b[0;32m--> 103\u001b[0m     name, size \u001b[38;5;241m=\u001b[39m \u001b[43mread_chunk_header\u001b[49m\u001b[43m(\u001b[49m\u001b[43minfile\u001b[49m\u001b[43m)\u001b[49m\n\u001b[1;32m    105\u001b[0m     \u001b[38;5;28;01mif\u001b[39;00m name \u001b[38;5;241m!=\u001b[39m \u001b[38;5;124mb\u001b[39m\u001b[38;5;124m'\u001b[39m\u001b[38;5;124mMThd\u001b[39m\u001b[38;5;124m'\u001b[39m:\n\u001b[1;32m    106\u001b[0m         \u001b[38;5;28;01mraise\u001b[39;00m \u001b[38;5;167;01mOSError\u001b[39;00m(\u001b[38;5;124m'\u001b[39m\u001b[38;5;124mMThd not found. Probably not a MIDI file\u001b[39m\u001b[38;5;124m'\u001b[39m)\n",
      "File \u001b[0;32m/usr/local/python/3.12.1/lib/python3.12/site-packages/mido/midifiles/midifiles.py:93\u001b[0m, in \u001b[0;36mread_chunk_header\u001b[0;34m(infile)\u001b[0m\n\u001b[1;32m     92\u001b[0m \u001b[38;5;28;01mdef\u001b[39;00m \u001b[38;5;21mread_chunk_header\u001b[39m(infile):\n\u001b[0;32m---> 93\u001b[0m     header \u001b[38;5;241m=\u001b[39m \u001b[43minfile\u001b[49m\u001b[38;5;241;43m.\u001b[39;49m\u001b[43mread\u001b[49m(\u001b[38;5;241m8\u001b[39m)\n\u001b[1;32m     94\u001b[0m     \u001b[38;5;28;01mif\u001b[39;00m \u001b[38;5;28mlen\u001b[39m(header) \u001b[38;5;241m<\u001b[39m \u001b[38;5;241m8\u001b[39m:\n\u001b[1;32m     95\u001b[0m         \u001b[38;5;28;01mraise\u001b[39;00m \u001b[38;5;167;01mEOFError\u001b[39;00m\n",
      "\u001b[0;31mAttributeError\u001b[0m: 'Score' object has no attribute 'read'"
     ]
    }
   ],
   "source": [
    "# Set up musescore\n",
    "import music21\n",
    "music21_settings = music21.environment.UserSettings()\n",
    "music21_settings['musescoreDirectPNGPath'] = '/usr/bin/mscore'\n",
    "music21_settings['directoryScratch'] = '/tmp'\n",
    "\n",
    "# Create a Stream\n",
    "score = music21.converter.parse(midi_carnatic)\n",
    "pm = pretty_midi.PrettyMIDI(score)"
   ]
  },
  {
   "cell_type": "code",
   "execution_count": null,
   "metadata": {},
   "outputs": [
    {
     "name": "stdout",
     "output_type": "stream",
     "text": [
      "{0.0} <music21.metadata.Metadata object at 0x7010715a2db0>\n",
      "{0.0} <music21.stream.Part 0x7010715a29c0>\n",
      "    {0.0} <music21.stream.Measure 1 offset=0.0>\n",
      "        {0.0} <music21.instrument.Flute \"Carnatic Midi by Subramanian's Gaayaka: Flute\">\n",
      "        {0.0} <music21.clef.TrebleClef>\n",
      "        {0.0} <music21.tempo.MetronomeMark animato Quarter=120>\n",
      "        {0.0} <music21.meter.TimeSignature 4/4>\n",
      "        {0.0} <music21.note.Note G>\n",
      "        {1.5} <music21.note.Note G#>\n",
      "        {3.5} <music21.note.Rest eighth>\n",
      "    {4.0} <music21.stream.Measure 2 offset=4.0>\n",
      "        {0.0} <music21.note.Rest 2/3ql>\n",
      "        {0.6667} <music21.note.Note B->\n",
      "    {8.0} <music21.stream.Measure 3 offset=8.0>\n",
      "        {0.0} <music21.note.Note B->\n",
      "        {0.6667} <music21.note.Rest 5/6ql>\n",
      "        {1.5} <music21.note.Note G>\n",
      "        {3.0} <music21.note.Note F>\n",
      "    {12.0} <music21.stream.Measure 4 offset=12.0>\n",
      "        {0.0} <music21.note.Note F>\n",
      "        {2.6667} <music21.note.Note C#>\n",
      "    {16.0} <music21.stream.Measure 5 offset=16.0>\n",
      "        {0.0} <music21.note.Note C#>\n",
      "        {1.1667} <music21.note.Rest 5/6ql>\n",
      "        {2.0} <music21.note.Note B->\n",
      "    {20.0} <music21.stream.Measure 6 offset=20.0>\n",
      "        {0.0} <music21.note.Note B->\n",
      "        {0.75} <music21.note.Rest quarter>\n",
      "        {1.75} <music21.note.Note B->\n",
      "    {24.0} <music21.stream.Measure 7 offset=24.0>\n",
      "        {0.0} <music21.note.Note B->\n",
      "        {0.5} <music21.note.Rest 1/6ql>\n",
      "        {0.6667} <music21.note.Note C>\n",
      "        {3.1667} <music21.note.Rest 1/3ql>\n",
      "        {3.5} <music21.note.Note E->\n",
      "    {28.0} <music21.stream.Measure 8 offset=28.0>\n",
      "        {0.0} <music21.note.Note E->\n",
      "        {1.25} <music21.note.Rest eighth>\n",
      "        {1.75} <music21.note.Note F>\n",
      "    {32.0} <music21.stream.Measure 9 offset=32.0>\n",
      "        {0.0} <music21.note.Note F>\n",
      "        {1.0} <music21.note.Rest dotted-eighth>\n",
      "        {1.75} <music21.note.Note G>\n",
      "        {3.5} <music21.note.Rest 16th>\n",
      "        {3.75} <music21.note.Note G#>\n",
      "    {36.0} <music21.stream.Measure 10 offset=36.0>\n",
      "        {0.0} <music21.note.Note G#>\n",
      "        {1.25} <music21.note.Note C>\n",
      "        {3.25} <music21.note.Note C>\n",
      "    {40.0} <music21.stream.Measure 11 offset=40.0>\n",
      "        {0.0} <music21.note.Note C>\n",
      "        {1.5833} <music21.note.Rest dotted-eighth>\n",
      "        {2.3333} <music21.note.Note G#>\n",
      "    {44.0} <music21.stream.Measure 12 offset=44.0>\n",
      "        {0.0} <music21.note.Note G#>\n",
      "        {0.0833} <music21.note.Rest 16th>\n",
      "        {0.3333} <music21.note.Note C>\n",
      "        {3.6667} <music21.note.Rest 1/3ql>\n",
      "    {48.0} <music21.stream.Measure 13 offset=48.0>\n",
      "        {0.0} <music21.note.Rest eighth>\n",
      "        {0.5} <music21.note.Note D>\n",
      "    {52.0} <music21.stream.Measure 14 offset=52.0>\n",
      "        {0.0} <music21.note.Rest quarter>\n",
      "        {1.0} <music21.note.Note E->\n",
      "        {2.0} <music21.note.Rest 1/3ql>\n",
      "        {2.3333} <music21.note.Note G>\n",
      "        {3.3333} <music21.note.Note D>\n",
      "    {56.0} <music21.stream.Measure 15 offset=56.0>\n",
      "        {0.0} <music21.note.Note D>\n",
      "        {1.0} <music21.note.Rest quarter>\n",
      "        {2.0} <music21.note.Note B->\n",
      "    {60.0} <music21.stream.Measure 16 offset=60.0>\n",
      "        {0.0} <music21.note.Note B->\n",
      "        {0.3333} <music21.note.Rest 1/3ql>\n",
      "        {0.6667} <music21.note.Note B->\n",
      "        {3.0} <music21.note.Note G#>\n",
      "    {64.0} <music21.stream.Measure 17 offset=64.0>\n",
      "        {0.0} <music21.note.Note G#>\n",
      "        {0.25} <music21.note.Rest quarter>\n",
      "        {1.25} <music21.note.Note G#>\n",
      "        {3.5} <music21.note.Rest eighth>\n",
      "    {68.0} <music21.stream.Measure 18 offset=68.0>\n",
      "        {0.0} <music21.note.Note G>\n",
      "        {1.5} <music21.note.Note D>\n",
      "    {72.0} <music21.stream.Measure 19 offset=72.0>\n",
      "        {0.0} <music21.note.Note D>\n",
      "        {0.75} <music21.note.Rest 11/12ql>\n",
      "        {1.6667} <music21.note.Note D>\n",
      "    {76.0} <music21.stream.Measure 20 offset=76.0>\n",
      "        {0.0} <music21.note.Note D>\n",
      "        {2.0} <music21.note.Rest 1/3ql>\n",
      "        {2.3333} <music21.note.Note C#>\n",
      "    {80.0} <music21.stream.Measure 21 offset=80.0>\n",
      "        {0.0} <music21.note.Note C#>\n",
      "        {0.5833} <music21.note.Rest 41/12ql>\n",
      "        {4.0} <music21.bar.Barline type=final>\n"
     ]
    }
   ],
   "source": [
    "score.show('text')\n",
    "# stream.show('midi')"
   ]
  },
  {
   "cell_type": "code",
   "execution_count": 8,
   "metadata": {},
   "outputs": [
    {
     "data": {
      "text/html": [
       "\n",
       "        <div id=\"midiPlayerDiv1216\"></div>\n",
       "        <link rel=\"stylesheet\" href=\"https://cuthbertLab.github.io/music21j/css/m21.css\">\n",
       "        \n",
       "        <script\n",
       "        src=\"https://cdnjs.cloudflare.com/ajax/libs/require.js/2.3.6/require.min.js\"\n",
       "        ></script>\n",
       "    \n",
       "        <script>\n",
       "        function midiPlayerDiv1216_play() {\n",
       "            const rq = require.config({\n",
       "                paths: {\n",
       "                    'music21': 'https://cuthbertLab.github.io/music21j/releases/music21.debug',\n",
       "                }\n",
       "            });\n",
       "            rq(['music21'], function(music21) {\n",
       "                mp = new music21.miditools.MidiPlayer();\n",
       "                mp.addPlayer(\"#midiPlayerDiv1216\");\n",
       "                mp.base64Load(\"data:audio/midi;base64,TVRoZAAAAAYAAQACJ2BNVHJrAAAAFAD/UQMHoSAA/1gEBAIYCM5g/y8ATVRyawAAAWoA/wMmQ2FybmF0aWMgTWlkaSBieSBTdWJyYW1hbmlhbidzIEdhYXlha2EAwEkA4ABAAMBJzmCQQ2D2EIBDAACQRGCBnUCARADbcJBGYIK7AIBGAMFQkENg9hCAQwAAkEFggqBggEEAAJA9YIHEcIA9AMFQkDpggdhIgDoAzmCQOmCB2EiAOgCNEJA8YIHEcIA8AJogkD9ggYlogD8ApzCQQWCB/3iAQQC7CJBDYIGJaIBDAJNYkERg9hCARAAAkEhggZ1AgEgAAJBIYIG3YIBIALsIkERggYlogEQAk1iQSGCChkCASADBUJBKYIKTUIBKAM5gkEtgzmCASwCaIJBPYM5ggE8AAJBKYIGDIIBKAM5gkEZggbdggEYAmiCQRmCBt2CQRGCNEIBGANUogEQAzmCQRGCBsRiARACnMJBDYPYQgEMAAJA+YIH/eIA+AMgYkD5ggtUggD4AmiCQPWCBsRiAPQDOYP8vAA==\");\n",
       "            });\n",
       "        }\n",
       "        if (typeof require === 'undefined') {\n",
       "            setTimeout(midiPlayerDiv1216_play, 2000);\n",
       "        } else {\n",
       "            midiPlayerDiv1216_play();\n",
       "        }\n",
       "        </script>"
      ],
      "text/plain": [
       "<IPython.core.display.HTML object>"
      ]
     },
     "metadata": {},
     "output_type": "display_data"
    }
   ],
   "source": [
    "stream.show('midi')"
   ]
  },
  {
   "cell_type": "code",
   "execution_count": null,
   "metadata": {},
   "outputs": [],
   "source": []
  },
  {
   "cell_type": "code",
   "execution_count": null,
   "metadata": {},
   "outputs": [],
   "source": []
  },
  {
   "cell_type": "code",
   "execution_count": null,
   "metadata": {},
   "outputs": [],
   "source": []
  },
  {
   "cell_type": "code",
   "execution_count": null,
   "metadata": {},
   "outputs": [],
   "source": []
  },
  {
   "cell_type": "code",
   "execution_count": null,
   "metadata": {},
   "outputs": [],
   "source": []
  },
  {
   "cell_type": "markdown",
   "metadata": {},
   "source": [
    "# `pretty_midi` tutorial\n",
    "\n",
    "This tutorial goes over the functionality of [pretty_midi](http://github.com/craffel/pretty_midi), a Python library for creating, manipulating, and extracting information from MIDI files.  For more information, check [the docs](http://craffel.github.io/pretty-midi/)."
   ]
  },
  {
   "cell_type": "code",
   "execution_count": 9,
   "metadata": {},
   "outputs": [
    {
     "name": "stdout",
     "output_type": "stream",
     "text": [
      "mir_eval                      0.7\n"
     ]
    }
   ],
   "source": [
    "!pip list | grep mir"
   ]
  },
  {
   "cell_type": "code",
   "execution_count": 1,
   "metadata": {},
   "outputs": [],
   "source": [
    "# Uncomment to install dependecies to run on Colab:\n",
    "#!sudo apt-get install fluidsynth\n",
    "#!pip install pretty_midi mir_eval pyfluidsynth\n",
    "\n",
    "# For Python2.6 compatibility\n",
    "from __future__ import print_function\n",
    "\n",
    "import pretty_midi\n",
    "import numpy as np\n",
    "# For plotting\n",
    "# import mir_eval.display\n",
    "import librosa.display\n",
    "import matplotlib.pyplot as plt\n",
    "%matplotlib inline\n",
    "# For putting audio in the notebook\n",
    "import IPython.display\n"
   ]
  },
  {
   "cell_type": "markdown",
   "metadata": {},
   "source": [
    "## Building a MIDI file from scratch\n",
    "\n",
    "To start, we'll build a MIDI sequence from the ground up.  More specifically, we'll build up a MIDI \"object\" using `pretty_midi`'s representation of MIDI (which we can optionally write out to a MIDI file later on).  This representation is actually a little different than standard MIDI files (it's intended to be less ambiguous and a little easier to work with), but the two are mostly interchangeable.  Relevant differences will be pointed out as we go.\n",
    "\n",
    "### The `PrettyMIDI` class\n",
    "\n",
    "The `PrettyMIDI` class is the main container in `pretty_midi`.  It stores not only all of the events that constitute the piece, but also all of the timing information, meta-events (like key signature changes), and utility functions for manipulating, writing out, and inferring information about the MIDI data it contains."
   ]
  },
  {
   "cell_type": "code",
   "execution_count": 6,
   "metadata": {},
   "outputs": [],
   "source": [
    "# Construct a PrettyMIDI object.\n",
    "# We'll specify that it will have a tempo of 80bpm.\n",
    "pm = pretty_midi.PrettyMIDI(initial_tempo=80)"
   ]
  },
  {
   "cell_type": "markdown",
   "metadata": {},
   "source": [
    "### The `Instrument` class\n",
    "\n",
    "One of the most important functions of the `PrettyMIDI` class is to hold a `list` of `Instrument` class instances.  Each `Instrument` is able to store different events (for example, notes) which are meant to be played on a given general MIDI instrument (for example, instrument 42, \"Cello\").  The `Instrument` class also has functions for extracting useful information based solely on the events that occur on that particular instrument."
   ]
  },
  {
   "cell_type": "code",
   "execution_count": 7,
   "metadata": {},
   "outputs": [
    {
     "name": "stdout",
     "output_type": "stream",
     "text": [
      "[]\n"
     ]
    }
   ],
   "source": [
    "# The instruments list from our PrettyMIDI instance starts empty\n",
    "print(pm.instruments)"
   ]
  },
  {
   "cell_type": "code",
   "execution_count": null,
   "metadata": {},
   "outputs": [],
   "source": [
    "# Let's add a Cello instrument, which has program number 42.\n",
    "# pretty_midi also keeps track of whether each instrument is a \"drum\" instrument or not\n",
    "# because drum/non-drum instruments share program numbers in MIDI.\n",
    "# You can also optionally give the instrument a name,\n",
    "# which corresponds to the MIDI \"instrument name\" meta-event.\n",
    "inst = pretty_midi.Instrument(program=42, is_drum=False, name='test')\n",
    "pm.instruments.append(inst)"
   ]
  },
  {
   "cell_type": "code",
   "execution_count": 9,
   "metadata": {},
   "outputs": [
    {
     "data": {
      "text/plain": [
       "[Instrument(program=42, is_drum=False, name=\"my cello\")]"
      ]
     },
     "execution_count": 9,
     "metadata": {},
     "output_type": "execute_result"
    }
   ],
   "source": [
    "pm.instruments"
   ]
  },
  {
   "cell_type": "markdown",
   "metadata": {},
   "source": [
    "### Event containers\n",
    "\n",
    "`pretty_midi` has individual classes for holding MIDI events: `Note`, `PitchBend`, and `ControlChange`.  These classes store information analogous to their corresponding MIDI events.  The `Instrument` class has separate `list`s for each of these event types.\n",
    "\n",
    "#### Note\n",
    "\n",
    "The `Note` class represents a MIDI note, which has a pitch, a start time, and and end time.  Notes have a pitch number from 0 to 127, representing the notes from C-1 to G9.  In addition, notes have a velocity (volume) from 1 to 127, from quietest to loudest.  The way `pretty_midi` stores notes is slightly different from standard MIDI, in the sense that in MIDI the note-on and note-off events are separate and their correspondences must be guessed from the MIDI stream.  `pretty_midi` keeps the start and end times of a note coupled together, so things are less ambiguous.  Furthermore, `pretty_midi` stores all times in terms of actual wall clock time from the start of the MIDI sequence, rather than in \"ticks\" (discussed further below).  This is much easier to work with!"
   ]
  },
  {
   "cell_type": "code",
   "execution_count": 10,
   "metadata": {},
   "outputs": [
    {
     "name": "stdout",
     "output_type": "stream",
     "text": [
      "[Note(start=0.200000, end=1.100000, pitch=60, velocity=100), Note(start=0.600000, end=1.700000, pitch=62, velocity=100), Note(start=1.000000, end=2.300000, pitch=64, velocity=100)]\n"
     ]
    }
   ],
   "source": [
    "# Let's add a few notes to our instrument\n",
    "velocity = 100\n",
    "for pitch, start, end in zip([60, 62, 64], [0.2, 0.6, 1.0], [1.1, 1.7, 2.3]):\n",
    "    inst.notes.append(pretty_midi.Note(velocity, pitch, start, end))\n",
    "print(inst.notes)"
   ]
  },
  {
   "cell_type": "markdown",
   "metadata": {},
   "source": [
    "#### Pitch bends\n",
    "\n",
    "Since MIDI notes are all defined to have a specific integer pitch value, in order to represent arbitrary pitch frequencies we need to use pitch bends.  A `PitchBend` class in `pretty_midi` holds a time (in seconds) and a pitch offset.  The pitch offset is an integer in the range [-8192, 8191], which in General MIDI spans the range from -2 to +2 semitones.  As with `Note`s, the `Instrument` class has a `list` for `PitchBend` class instances."
   ]
  },
  {
   "cell_type": "code",
   "execution_count": 11,
   "metadata": {},
   "outputs": [],
   "source": [
    "# We'll just do a 1-semitone pitch ramp up\n",
    "n_steps = 512\n",
    "bend_range = 8192//2\n",
    "for time, pitch in zip(np.linspace(1.5, 2.3, n_steps),\n",
    "                       range(0, bend_range, bend_range//n_steps)):\n",
    "    inst.pitch_bends.append(pretty_midi.PitchBend(pitch, time))"
   ]
  },
  {
   "cell_type": "markdown",
   "metadata": {},
   "source": [
    "####  Control changes\n",
    "\n",
    "The `Instrument` class also holds control changes.  Control changes include things like modulation, reverb, etc.,  which may or may not be supported by a given General MIDI synthesizer.  As usual, they are stored in an `Instrument`'s `control_changes` `list`.  We won't be covering them here."
   ]
  },
  {
   "cell_type": "markdown",
   "metadata": {},
   "source": [
    "### Putting it all together\n",
    "\n",
    "To give you a taste of what sorts of analysis you can do (which we'll cover in more detail in the next section), here are some examples using the (simple) MIDI sequence we just constructed.\n",
    "\n",
    "#### Plotting a piano roll\n",
    "\n",
    "A great way to visualize MIDI data is via a piano roll, which is a time-frequency matrix where each row is a different MIDI pitch and each column is a different slice in time.  `pretty_midi` can produce piano roll matrices for each indivual instrument (via `Instrument.get_piano_roll`) or the entire `PrettyMIDI` object (summed across instruments, via `PrettyMIDI.get_piano_roll`).  The spacing in time between subsequent columns of the matrix is determined by the `fs` parameter."
   ]
  },
  {
   "cell_type": "code",
   "execution_count": 12,
   "metadata": {},
   "outputs": [
    {
     "name": "stderr",
     "output_type": "stream",
     "text": [
      "/tmp/ipykernel_7677/2914792024.py:3: UserWarning: Frequency axis exceeds Nyquist. Did you remember to set all spectrogram parameters in specshow?\n",
      "  librosa.display.specshow(pm.get_piano_roll(fs)[start_pitch:end_pitch],\n"
     ]
    },
    {
     "data": {
      "image/png": "[encoded data removed]",
      "text/plain": [
       "<Figure size 800x400 with 1 Axes>"
      ]
     },
     "metadata": {},
     "output_type": "display_data"
    }
   ],
   "source": [
    "def plot_piano_roll(pm, start_pitch, end_pitch, fs=100):\n",
    "    # Use librosa's specshow function for displaying the piano roll\n",
    "    librosa.display.specshow(pm.get_piano_roll(fs)[start_pitch:end_pitch],\n",
    "                             hop_length=1, sr=fs, x_axis='time', y_axis='cqt_note',\n",
    "                             fmin=pretty_midi.note_number_to_hz(start_pitch))\n",
    "\n",
    "plt.figure(figsize=(8, 4))\n",
    "plot_piano_roll(pm, 56, 70)\n",
    "# Note the blurry section between 1.5s and 2.3s - that's the pitch bending up!"
   ]
  },
  {
   "cell_type": "code",
   "execution_count": 13,
   "metadata": {},
   "outputs": [
    {
     "name": "stderr",
     "output_type": "stream",
     "text": [
      "/tmp/ipykernel_7677/1110493788.py:3: UserWarning: Frequency axis exceeds Nyquist. Did you remember to set all spectrogram parameters in specshow?\n",
      "  librosa.display.specshow(pm.get_piano_roll(fs)[start_pitch:end_pitch],\n"
     ]
    },
    {
     "data": {
      "image/png": "[encoded data removed]",
      "text/plain": [
       "<Figure size 1200x600 with 1 Axes>"
      ]
     },
     "metadata": {},
     "output_type": "display_data"
    }
   ],
   "source": [
    "def plot_piano_roll(pm, start_pitch, end_pitch, fs=100):\n",
    "    # Use librosa's specshow function for displaying the piano roll\n",
    "    librosa.display.specshow(pm.get_piano_roll(fs)[start_pitch:end_pitch],\n",
    "                             hop_length=1, sr=fs, x_axis='time', y_axis='cqt_note',\n",
    "                             fmin=pretty_midi.note_number_to_hz(start_pitch))\n",
    "\n",
    "def plot_pitch_bends(pm, start_pitch, end_pitch, fs=100):\n",
    "    # Extract pitch bend events\n",
    "    for instrument in pm.instruments:\n",
    "        for bend in instrument.pitch_bends:\n",
    "            time = bend.time\n",
    "            pitch_bend = pretty_midi.pitch_bend_to_semitones(bend.pitch)\n",
    "            plt.plot([time, time], [start_pitch, end_pitch], color='r', linestyle='--', linewidth=0.5)\n",
    "            plt.text(time, end_pitch, f'{pitch_bend:.2f}', color='r', fontsize=8, rotation=90, verticalalignment='bottom')\n",
    "\n",
    "plt.figure(figsize=(12, 6))\n",
    "plot_piano_roll(pm, 56, 70)\n",
    "plot_pitch_bends(pm, 56, 70)\n",
    "plt.title('Piano Roll with Pitch Bends')\n",
    "plt.show()"
   ]
  },
  {
   "cell_type": "markdown",
   "metadata": {},
   "source": [
    "#### Sonification\n",
    "\n",
    "`pretty_midi` has two main ways to sonify MIDI data: the `synthesize` and `fluidsynth` functions.  `synthesize` is a simple and rudimentary method which just synthesizes each note as a sine wave.  `fluidsynth` uses the Fluidsynth program along with a SoundFont file (a simple one is installed alongside `pretty_midi`) to create a General MIDI synthesis.  Note that you must have the Fluidsynth program installed to use the `fluidsynth` function.  Both the `Instrument` and `PrettyMIDI` classes have these methods; the `PrettyMIDI` versions just sum up the syntheses for all of the contained instruments."
   ]
  },
  {
   "cell_type": "code",
   "execution_count": 3,
   "metadata": {},
   "outputs": [],
   "source": [
    "# Synthesis frequency\n",
    "fs = 16000\n",
    "# IPython.display.Audio(pm.synthesize(fs=16000), rate=16000)\n",
    "# Sounds like sine waves..."
   ]
  },
  {
   "cell_type": "markdown",
   "metadata": {},
   "source": [
    "#### Writing it out\n",
    "\n",
    "Finally, we can easily write out what we just made to a standard MIDI file via the `write` function.  `pretty_midi` puts each `Instrument` on a separate track in the MIDI file.  Note that because `pretty_midi` uses a slightly different representation of MIDI data (for example, representing time as absolute seconds rather than as ticks), the information written out to the file will be slightly different.  Otherwise, everything in your `PrettyMIDI` object will be included in the generated MIDI file."
   ]
  },
  {
   "cell_type": "code",
   "execution_count": 14,
   "metadata": {},
   "outputs": [],
   "source": [
    "pm.write('out.mid')"
   ]
  },
  {
   "cell_type": "markdown",
   "metadata": {},
   "source": [
    "## Parsing a MIDI file\n",
    "\n",
    "The other intended use of `pretty_midi` is to parse MIDI files, so that they can be manipulated and analyzed.  Loading in a MIDI file is simple.  `pretty_midi` should be able to handle all valid MIDI files, and will raise an Exception of the MIDI data is corrupt."
   ]
  },
  {
   "cell_type": "code",
   "execution_count": 6,
   "metadata": {},
   "outputs": [],
   "source": [
    "# We'll load in the example.mid file distributed with pretty_midi\n",
    "pm = pretty_midi.PrettyMIDI('/workspaces/music-composition/example .mid')"
   ]
  },
  {
   "cell_type": "code",
   "execution_count": 11,
   "metadata": {},
   "outputs": [
    {
     "ename": "ImportError",
     "evalue": "fluidsynth() was called but pyfluidsynth is not installed.",
     "output_type": "error",
     "traceback": [
      "\u001b[0;31m---------------------------------------------------------------------------\u001b[0m",
      "\u001b[0;31mImportError\u001b[0m                               Traceback (most recent call last)",
      "Cell \u001b[0;32mIn[11], line 1\u001b[0m\n\u001b[0;32m----> 1\u001b[0m IPython\u001b[38;5;241m.\u001b[39mdisplay\u001b[38;5;241m.\u001b[39mAudio(\u001b[43mpm\u001b[49m\u001b[38;5;241;43m.\u001b[39;49m\u001b[43mfluidsynth\u001b[49m\u001b[43m(\u001b[49m\u001b[43mfs\u001b[49m\u001b[38;5;241;43m=\u001b[39;49m\u001b[38;5;241;43m16000\u001b[39;49m\u001b[43m)\u001b[49m, rate\u001b[38;5;241m=\u001b[39m\u001b[38;5;241m16000\u001b[39m)\n",
      "File \u001b[0;32m/usr/local/python/3.12.1/lib/python3.12/site-packages/pretty_midi/pretty_midi.py:974\u001b[0m, in \u001b[0;36mPrettyMIDI.fluidsynth\u001b[0;34m(self, fs, sf2_path)\u001b[0m\n\u001b[1;32m    972\u001b[0m     \u001b[38;5;28;01mreturn\u001b[39;00m np\u001b[38;5;241m.\u001b[39marray([])\n\u001b[1;32m    973\u001b[0m \u001b[38;5;66;03m# Get synthesized waveform for each instrument\u001b[39;00m\n\u001b[0;32m--> 974\u001b[0m waveforms \u001b[38;5;241m=\u001b[39m [\u001b[43mi\u001b[49m\u001b[38;5;241;43m.\u001b[39;49m\u001b[43mfluidsynth\u001b[49m\u001b[43m(\u001b[49m\u001b[43mfs\u001b[49m\u001b[38;5;241;43m=\u001b[39;49m\u001b[43mfs\u001b[49m\u001b[43m,\u001b[49m\n\u001b[1;32m    975\u001b[0m \u001b[43m                          \u001b[49m\u001b[43msf2_path\u001b[49m\u001b[38;5;241;43m=\u001b[39;49m\u001b[43msf2_path\u001b[49m\u001b[43m)\u001b[49m \u001b[38;5;28;01mfor\u001b[39;00m i \u001b[38;5;129;01min\u001b[39;00m \u001b[38;5;28mself\u001b[39m\u001b[38;5;241m.\u001b[39minstruments]\n\u001b[1;32m    976\u001b[0m \u001b[38;5;66;03m# Allocate output waveform, with #sample = max length of all waveforms\u001b[39;00m\n\u001b[1;32m    977\u001b[0m synthesized \u001b[38;5;241m=\u001b[39m np\u001b[38;5;241m.\u001b[39mzeros(np\u001b[38;5;241m.\u001b[39mmax([w\u001b[38;5;241m.\u001b[39mshape[\u001b[38;5;241m0\u001b[39m] \u001b[38;5;28;01mfor\u001b[39;00m w \u001b[38;5;129;01min\u001b[39;00m waveforms]))\n",
      "File \u001b[0;32m/usr/local/python/3.12.1/lib/python3.12/site-packages/pretty_midi/instrument.py:456\u001b[0m, in \u001b[0;36mInstrument.fluidsynth\u001b[0;34m(self, fs, sf2_path)\u001b[0m\n\u001b[1;32m    453\u001b[0m     sf2_path \u001b[38;5;241m=\u001b[39m pkg_resources\u001b[38;5;241m.\u001b[39mresource_filename(\u001b[38;5;18m__name__\u001b[39m, DEFAULT_SF2)\n\u001b[1;32m    455\u001b[0m \u001b[38;5;28;01mif\u001b[39;00m \u001b[38;5;129;01mnot\u001b[39;00m _HAS_FLUIDSYNTH:\n\u001b[0;32m--> 456\u001b[0m     \u001b[38;5;28;01mraise\u001b[39;00m \u001b[38;5;167;01mImportError\u001b[39;00m(\u001b[38;5;124m\"\u001b[39m\u001b[38;5;124mfluidsynth() was called but pyfluidsynth \u001b[39m\u001b[38;5;124m\"\u001b[39m\n\u001b[1;32m    457\u001b[0m                       \u001b[38;5;124m\"\u001b[39m\u001b[38;5;124mis not installed.\u001b[39m\u001b[38;5;124m\"\u001b[39m)\n\u001b[1;32m    459\u001b[0m \u001b[38;5;28;01mif\u001b[39;00m \u001b[38;5;129;01mnot\u001b[39;00m os\u001b[38;5;241m.\u001b[39mpath\u001b[38;5;241m.\u001b[39mexists(sf2_path):\n\u001b[1;32m    460\u001b[0m     \u001b[38;5;28;01mraise\u001b[39;00m \u001b[38;5;167;01mValueError\u001b[39;00m(\u001b[38;5;124m\"\u001b[39m\u001b[38;5;124mNo soundfont file found at the supplied path \u001b[39m\u001b[38;5;124m\"\u001b[39m\n\u001b[1;32m    461\u001b[0m                      \u001b[38;5;124m\"\u001b[39m\u001b[38;5;132;01m{}\u001b[39;00m\u001b[38;5;124m\"\u001b[39m\u001b[38;5;241m.\u001b[39mformat(sf2_path))\n",
      "\u001b[0;31mImportError\u001b[0m: fluidsynth() was called but pyfluidsynth is not installed."
     ]
    }
   ],
   "source": [
    "IPython.display.Audio(pm.fluidsynth(fs=16000), rate=16000)"
   ]
  },
  {
   "cell_type": "code",
   "execution_count": 14,
   "metadata": {},
   "outputs": [],
   "source": [
    "import pyaudio\n",
    "\n",
    "p = pyaudio.PyAudio()\n",
    "for i in range(p.get_device_count()):\n",
    "    info = p.get_device_info_by_index(i)\n",
    "    print(f\"Device {i}: {info['name']}\")"
   ]
  },
  {
   "cell_type": "code",
   "execution_count": 13,
   "metadata": {},
   "outputs": [
    {
     "ename": "OSError",
     "evalue": "[Errno -9996] Invalid output device (no default output device)",
     "output_type": "error",
     "traceback": [
      "\u001b[0;31m---------------------------------------------------------------------------\u001b[0m",
      "\u001b[0;31mOSError\u001b[0m                                   Traceback (most recent call last)",
      "Cell \u001b[0;32mIn[13], line 7\u001b[0m\n\u001b[1;32m      5\u001b[0m sfid \u001b[38;5;241m=\u001b[39m synth\u001b[38;5;241m.\u001b[39msfload(\u001b[38;5;124m\"\u001b[39m\u001b[38;5;124m/usr/share/sounds/sf2/FluidR3_GM.sf2\u001b[39m\u001b[38;5;124m\"\u001b[39m)\n\u001b[1;32m      6\u001b[0m synth\u001b[38;5;241m.\u001b[39mprogram_select(\u001b[38;5;241m0\u001b[39m, sfid, \u001b[38;5;241m0\u001b[39m, \u001b[38;5;241m0\u001b[39m)\n\u001b[0;32m----> 7\u001b[0m \u001b[43msynth\u001b[49m\u001b[38;5;241;43m.\u001b[39;49m\u001b[43mstart\u001b[49m\u001b[43m(\u001b[49m\u001b[43m)\u001b[49m\n\u001b[1;32m      9\u001b[0m time\u001b[38;5;241m.\u001b[39msleep(\u001b[38;5;241m0.5\u001b[39m)\n\u001b[1;32m     11\u001b[0m synth\u001b[38;5;241m.\u001b[39mnoteon(\u001b[38;5;241m0\u001b[39m, \u001b[38;5;241m48\u001b[39m, \u001b[38;5;241m100\u001b[39m)\n",
      "File \u001b[0;32m/usr/local/python/3.12.1/lib/python3.12/site-packages/tinysoundfont/synth.py:380\u001b[0m, in \u001b[0;36mSynth.start\u001b[0;34m(self, buffer_size, **kwargs)\u001b[0m\n\u001b[1;32m    377\u001b[0m     \u001b[38;5;28;01mreturn\u001b[39;00m (\u001b[38;5;28mbytes\u001b[39m(buffer), pyaudio\u001b[38;5;241m.\u001b[39mpaContinue)\n\u001b[1;32m    379\u001b[0m \u001b[38;5;28mself\u001b[39m\u001b[38;5;241m.\u001b[39mp \u001b[38;5;241m=\u001b[39m pyaudio\u001b[38;5;241m.\u001b[39mPyAudio()\n\u001b[0;32m--> 380\u001b[0m \u001b[38;5;28mself\u001b[39m\u001b[38;5;241m.\u001b[39mstream \u001b[38;5;241m=\u001b[39m \u001b[38;5;28;43mself\u001b[39;49m\u001b[38;5;241;43m.\u001b[39;49m\u001b[43mp\u001b[49m\u001b[38;5;241;43m.\u001b[39;49m\u001b[43mopen\u001b[49m\u001b[43m(\u001b[49m\n\u001b[1;32m    381\u001b[0m \u001b[43m    \u001b[49m\u001b[38;5;28;43mformat\u001b[39;49m\u001b[38;5;241;43m=\u001b[39;49m\u001b[43mpyaudio\u001b[49m\u001b[38;5;241;43m.\u001b[39;49m\u001b[43mpaFloat32\u001b[49m\u001b[43m,\u001b[49m\n\u001b[1;32m    382\u001b[0m \u001b[43m    \u001b[49m\u001b[43mchannels\u001b[49m\u001b[38;5;241;43m=\u001b[39;49m\u001b[38;5;241;43m2\u001b[39;49m\u001b[43m,\u001b[49m\n\u001b[1;32m    383\u001b[0m \u001b[43m    \u001b[49m\u001b[43mrate\u001b[49m\u001b[38;5;241;43m=\u001b[39;49m\u001b[38;5;28;43mself\u001b[39;49m\u001b[38;5;241;43m.\u001b[39;49m\u001b[43msamplerate\u001b[49m\u001b[43m,\u001b[49m\n\u001b[1;32m    384\u001b[0m \u001b[43m    \u001b[49m\u001b[43moutput\u001b[49m\u001b[38;5;241;43m=\u001b[39;49m\u001b[38;5;28;43;01mTrue\u001b[39;49;00m\u001b[43m,\u001b[49m\n\u001b[1;32m    385\u001b[0m \u001b[43m    \u001b[49m\u001b[43mstream_callback\u001b[49m\u001b[38;5;241;43m=\u001b[39;49m\u001b[43mcallback\u001b[49m\u001b[43m,\u001b[49m\n\u001b[1;32m    386\u001b[0m \u001b[43m    \u001b[49m\u001b[43mframes_per_buffer\u001b[49m\u001b[38;5;241;43m=\u001b[39;49m\u001b[43mbuffer_size\u001b[49m\u001b[43m,\u001b[49m\n\u001b[1;32m    387\u001b[0m \u001b[43m    \u001b[49m\u001b[38;5;241;43m*\u001b[39;49m\u001b[38;5;241;43m*\u001b[39;49m\u001b[43mkwargs\u001b[49m\n\u001b[1;32m    388\u001b[0m \u001b[43m\u001b[49m\u001b[43m)\u001b[49m\n",
      "File \u001b[0;32m/usr/local/python/3.12.1/lib/python3.12/site-packages/pyaudio/__init__.py:639\u001b[0m, in \u001b[0;36mPyAudio.open\u001b[0;34m(self, *args, **kwargs)\u001b[0m\n\u001b[1;32m    631\u001b[0m \u001b[38;5;28;01mdef\u001b[39;00m \u001b[38;5;21mopen\u001b[39m(\u001b[38;5;28mself\u001b[39m, \u001b[38;5;241m*\u001b[39margs, \u001b[38;5;241m*\u001b[39m\u001b[38;5;241m*\u001b[39mkwargs):\n\u001b[1;32m    632\u001b[0m \u001b[38;5;250m    \u001b[39m\u001b[38;5;124;03m\"\"\"Opens a new stream.\u001b[39;00m\n\u001b[1;32m    633\u001b[0m \n\u001b[1;32m    634\u001b[0m \u001b[38;5;124;03m    See constructor for :py:func:`PyAudio.Stream.__init__` for parameter\u001b[39;00m\n\u001b[0;32m   (...)\u001b[0m\n\u001b[1;32m    637\u001b[0m \u001b[38;5;124;03m    :returns: A new :py:class:`PyAudio.Stream`\u001b[39;00m\n\u001b[1;32m    638\u001b[0m \u001b[38;5;124;03m    \"\"\"\u001b[39;00m\n\u001b[0;32m--> 639\u001b[0m     stream \u001b[38;5;241m=\u001b[39m \u001b[43mPyAudio\u001b[49m\u001b[38;5;241;43m.\u001b[39;49m\u001b[43mStream\u001b[49m\u001b[43m(\u001b[49m\u001b[38;5;28;43mself\u001b[39;49m\u001b[43m,\u001b[49m\u001b[43m \u001b[49m\u001b[38;5;241;43m*\u001b[39;49m\u001b[43margs\u001b[49m\u001b[43m,\u001b[49m\u001b[43m \u001b[49m\u001b[38;5;241;43m*\u001b[39;49m\u001b[38;5;241;43m*\u001b[39;49m\u001b[43mkwargs\u001b[49m\u001b[43m)\u001b[49m\n\u001b[1;32m    640\u001b[0m     \u001b[38;5;28mself\u001b[39m\u001b[38;5;241m.\u001b[39m_streams\u001b[38;5;241m.\u001b[39madd(stream)\n\u001b[1;32m    641\u001b[0m     \u001b[38;5;28;01mreturn\u001b[39;00m stream\n",
      "File \u001b[0;32m/usr/local/python/3.12.1/lib/python3.12/site-packages/pyaudio/__init__.py:441\u001b[0m, in \u001b[0;36mPyAudio.Stream.__init__\u001b[0;34m(self, PA_manager, rate, channels, format, input, output, input_device_index, output_device_index, frames_per_buffer, start, input_host_api_specific_stream_info, output_host_api_specific_stream_info, stream_callback)\u001b[0m\n\u001b[1;32m    438\u001b[0m     arguments[\u001b[38;5;124m'\u001b[39m\u001b[38;5;124mstream_callback\u001b[39m\u001b[38;5;124m'\u001b[39m] \u001b[38;5;241m=\u001b[39m stream_callback\n\u001b[1;32m    440\u001b[0m \u001b[38;5;66;03m# calling pa.open returns a stream object\u001b[39;00m\n\u001b[0;32m--> 441\u001b[0m \u001b[38;5;28mself\u001b[39m\u001b[38;5;241m.\u001b[39m_stream \u001b[38;5;241m=\u001b[39m \u001b[43mpa\u001b[49m\u001b[38;5;241;43m.\u001b[39;49m\u001b[43mopen\u001b[49m\u001b[43m(\u001b[49m\u001b[38;5;241;43m*\u001b[39;49m\u001b[38;5;241;43m*\u001b[39;49m\u001b[43marguments\u001b[49m\u001b[43m)\u001b[49m\n\u001b[1;32m    443\u001b[0m \u001b[38;5;28mself\u001b[39m\u001b[38;5;241m.\u001b[39m_input_latency \u001b[38;5;241m=\u001b[39m \u001b[38;5;28mself\u001b[39m\u001b[38;5;241m.\u001b[39m_stream\u001b[38;5;241m.\u001b[39minputLatency\n\u001b[1;32m    444\u001b[0m \u001b[38;5;28mself\u001b[39m\u001b[38;5;241m.\u001b[39m_output_latency \u001b[38;5;241m=\u001b[39m \u001b[38;5;28mself\u001b[39m\u001b[38;5;241m.\u001b[39m_stream\u001b[38;5;241m.\u001b[39moutputLatency\n",
      "\u001b[0;31mOSError\u001b[0m: [Errno -9996] Invalid output device (no default output device)"
     ]
    }
   ],
   "source": [
    "import tinysoundfont\n",
    "import time\n",
    "\n",
    "synth = tinysoundfont.Synth()\n",
    "sfid = synth.sfload(\"/usr/share/sounds/sf2/FluidR3_GM.sf2\")\n",
    "synth.program_select(0, sfid, 0, 0)\n",
    "synth.start()\n",
    "\n",
    "time.sleep(0.5)\n",
    "\n",
    "synth.noteon(0, 48, 100)\n",
    "synth.noteon(0, 52, 100)\n",
    "synth.noteon(0, 55, 100)\n",
    "\n",
    "time.sleep(0.5)\n",
    "\n",
    "synth.noteoff(0, 48)\n",
    "synth.noteoff(0, 52)\n",
    "synth.noteoff(0, 55)\n",
    "\n",
    "time.sleep(0.5)"
   ]
  },
  {
   "cell_type": "code",
   "execution_count": null,
   "metadata": {},
   "outputs": [],
   "source": []
  },
  {
   "cell_type": "code",
   "execution_count": 19,
   "metadata": {},
   "outputs": [
    {
     "name": "stderr",
     "output_type": "stream",
     "text": [
      "/tmp/ipykernel_7677/1110493788.py:3: UserWarning: Frequency axis exceeds Nyquist. Did you remember to set all spectrogram parameters in specshow?\n",
      "  librosa.display.specshow(pm.get_piano_roll(fs)[start_pitch:end_pitch],\n"
     ]
    },
    {
     "data": {
      "image/png": "[encoded data removed]",
      "text/plain": [
       "<Figure size 1200x400 with 1 Axes>"
      ]
     },
     "metadata": {},
     "output_type": "display_data"
    }
   ],
   "source": [
    "plt.figure(figsize=(12, 4))\n",
    "plot_piano_roll(pm, 24, 84)"
   ]
  },
  {
   "cell_type": "code",
   "execution_count": 20,
   "metadata": {},
   "outputs": [
    {
     "name": "stdout",
     "output_type": "stream",
     "text": [
      "There are 12 time signature changes\n",
      "There are 13 instruments\n",
      "Instrument 3 has 888 notes\n",
      "Instrument 4 has 26 pitch bends\n",
      "Instrument 5 has 169 control changes\n"
     ]
    }
   ],
   "source": [
    "# Let's look at what's in this MIDI file\n",
    "print('There are {} time signature changes'.format(len(pm.time_signature_changes)))\n",
    "print('There are {} instruments'.format(len(pm.instruments)))\n",
    "print('Instrument 3 has {} notes'.format(len(pm.instruments[0].notes)))\n",
    "print('Instrument 4 has {} pitch bends'.format(len(pm.instruments[4].pitch_bends)))\n",
    "print('Instrument 5 has {} control changes'.format(len(pm.instruments[5].control_changes)))"
   ]
  },
  {
   "cell_type": "markdown",
   "metadata": {},
   "source": [
    "#### A note on timing information\n",
    "\n",
    "As discussed above, `pretty_midi` stores the time of different events in absolute seconds.  This is different from MIDI, where the timing of events is determined in terms of relative \"ticks\" from the previous event.  The amount of time each tick corresponds to depends on the current tempo and the file's resolution.  Naturally, this is a woefully difficult way to deal with timing, which is why `pretty_midi` represents time in terms of absolute seconds.  Hoever, we don't want to totally get rid of the metrical grid, so `pretty_midi` retains a mapping between times and ticks which is based on tempo change events."
   ]
  },
  {
   "cell_type": "code",
   "execution_count": 21,
   "metadata": {},
   "outputs": [
    {
     "name": "stdout",
     "output_type": "stream",
     "text": [
      "24.271851000000005\n",
      "2688\n",
      "24.271851000000005\n"
     ]
    }
   ],
   "source": [
    "# What's the start time of the 10th note on the 3rd instrument?\n",
    "print(pm.instruments[2].notes[10].start)\n",
    "# What's that in ticks?\n",
    "tick = pm.time_to_tick(pm.instruments[2].notes[10].start)\n",
    "print(tick)\n",
    "# Note we can also go in the opposite direction\n",
    "print(pm.tick_to_time(int(tick)))"
   ]
  },
  {
   "cell_type": "markdown",
   "metadata": {},
   "source": [
    "### Modifying the MIDI data\n",
    "\n",
    "Anything we did above when creating a MIDI file can now be done to the parsed MIDI object.  For example, we can add or remove notes from instruments, add or remove instruments from the MIDI sequence, or even modify the attributes of individual events."
   ]
  },
  {
   "cell_type": "code",
   "execution_count": 22,
   "metadata": {},
   "outputs": [],
   "source": [
    "# Let's shift the entire piece up by 2 semitones.\n",
    "for instrument in pm.instruments:\n",
    "    # Skip drum instruments - their notes aren't pitched!\n",
    "    if instrument.is_drum:\n",
    "        continue\n",
    "    for note in instrument.notes:\n",
    "        note.pitch += 2"
   ]
  },
  {
   "cell_type": "markdown",
   "metadata": {},
   "source": [
    "#### Adjusting timing\n",
    "\n",
    "There are two ways to modify the timing of a MIDI sequence in `pretty_midi`.  The first way is to directly changing the timing attributes of all of the events in the `PrettyMIDI` object (and its `Instrument`s).  While simple, the issue with this approach is that the timing of these events will no longer match the metrical information in the MIDI file.  The second approach is to use the `adjust_times` function, which effectively takes an original and adjusted temporal grid and correctly performs the warping - ensuring that the timing/metrical information remains correct.  This can also be used for cropping out portions of the MIDI file."
   ]
  },
  {
   "cell_type": "code",
   "execution_count": 23,
   "metadata": {},
   "outputs": [
    {
     "name": "stdout",
     "output_type": "stream",
     "text": [
      "26.699036100000004\n"
     ]
    }
   ],
   "source": [
    "# Get the length of the MIDI file\n",
    "length = pm.get_end_time()\n",
    "# This will effectively slow it down to 110% of its original length\n",
    "pm.adjust_times([0, length], [0, length*1.1])\n",
    "# Let's check what time our tick from above got mapped to - should be 1.1x\n",
    "print(pm.tick_to_time(tick))"
   ]
  },
  {
   "cell_type": "markdown",
   "metadata": {},
   "source": [
    "### Analyzing the MIDI data\n",
    "\n",
    "`pretty_midi` contains extensive functionality for deriving information from a MIDI sequence.  Much of this information is not readibly accessible from the MIDI file itself, so a primary goal of `pretty_midi` is to take care of all of the parsing and analysis in a correct, efficient, and easy-to-use way.\n",
    "\n",
    "#### Timing information\n",
    "\n",
    "Inferring, for example, the beat or downbeat times from a MIDI file requires keeping careful track of tempo change and time signature change events.  `pretty_midi` handles this for you, and keeps them correct when you use `adjust_times`."
   ]
  },
  {
   "cell_type": "code",
   "execution_count": 24,
   "metadata": {},
   "outputs": [
    {
     "data": {
      "image/png": "[encoded data removed]",
      "text/plain": [
       "<Figure size 432x288 with 1 Axes>"
      ]
     },
     "metadata": {
      "needs_background": "light"
     },
     "output_type": "display_data"
    }
   ],
   "source": [
    "# Plot the tempo changes over time\n",
    "# Many MIDI files won't have more than one tempo change event,\n",
    "# but this particular file was transcribed to somewhat closely match the original song.\n",
    "times, tempo_changes = pm.get_tempo_changes()\n",
    "plt.plot(times, tempo_changes, '.')\n",
    "plt.xlabel('Time')\n",
    "plt.ylabel('Tempo');"
   ]
  },
  {
   "cell_type": "code",
   "execution_count": 25,
   "metadata": {},
   "outputs": [
    {
     "data": {
      "image/png": "[encoded data removed]",
      "text/plain": [
       "<Figure size 864x288 with 1 Axes>"
      ]
     },
     "metadata": {
      "needs_background": "light"
     },
     "output_type": "display_data"
    }
   ],
   "source": [
    "# Get and downbeat times\n",
    "beats = pm.get_beats()\n",
    "downbeats = pm.get_downbeats()\n",
    "# Plot piano roll\n",
    "plt.figure(figsize=(12, 4))\n",
    "plot_piano_roll(pm, 24, 84)\n",
    "ymin, ymax = plt.ylim()\n",
    "# Plot beats as grey lines, downbeats as white lines\n",
    "mir_eval.display.events(beats, base=ymin, height=ymax, color='#AAAAAA')\n",
    "mir_eval.display.events(downbeats, base=ymin, height=ymax, color='#FFFFFF', lw=2)\n",
    "# Only display 20 seconds for clarity\n",
    "plt.xlim(25, 45);"
   ]
  },
  {
   "cell_type": "markdown",
   "metadata": {},
   "source": [
    "#### Harmonic information\n",
    "\n",
    "Beyond metrical information, `pretty_midi` contains a few utility functions for measuring statistics about the harmonic content of the MIDI sequence.  However, it's also designed so that additional analysis is easy."
   ]
  },
  {
   "cell_type": "code",
   "execution_count": 26,
   "metadata": {},
   "outputs": [
    {
     "data": {
      "text/plain": [
       "Text(0, 0.5, 'Proportion')"
      ]
     },
     "execution_count": 26,
     "metadata": {},
     "output_type": "execute_result"
    },
    {
     "data": {
      "image/png": "[encoded data removed]",
      "text/plain": [
       "<Figure size 432x288 with 1 Axes>"
      ]
     },
     "metadata": {
      "needs_background": "light"
     },
     "output_type": "display_data"
    }
   ],
   "source": [
    "# Plot a pitch class distribution - sort of a proxy for key\n",
    "plt.bar(np.arange(12), pm.get_pitch_class_histogram());\n",
    "plt.xticks(np.arange(12), ['C', '', 'D', '', 'E', 'F', '', 'G', '', 'A', '', 'B'])\n",
    "plt.xlabel('Note')\n",
    "plt.ylabel('Proportion')"
   ]
  },
  {
   "cell_type": "code",
   "execution_count": 28,
   "metadata": {},
   "outputs": [
    {
     "name": "stdout",
     "output_type": "stream",
     "text": [
      "60 C-to-D transitions.\n"
     ]
    }
   ],
   "source": [
    "# Let's count the number of transitions from C to D in this song\n",
    "n_c_to_d = 0\n",
    "for instrument in pm.instruments:\n",
    "    # Drum instrument notes don't have pitches!\n",
    "    if instrument.is_drum:\n",
    "        continue\n",
    "    for first_note, second_note in zip(instrument.notes[:-1], instrument.notes[1:]):\n",
    "        n_c_to_d += (first_note.pitch % 12 == 0) and (second_note.pitch % 12 == 2)\n",
    "print('{} C-to-D transitions.'.format(n_c_to_d))"
   ]
  },
  {
   "cell_type": "markdown",
   "metadata": {},
   "source": [
    "## Utility functions\n",
    "\n",
    "Since the MIDI specification is not a terribly user-friendly format (e.g. instruments are identified by integers with no discernible order), `pretty_midi` provides various functions for converting between MIDI format and human-friendly/readable format."
   ]
  },
  {
   "cell_type": "code",
   "execution_count": 29,
   "metadata": {},
   "outputs": [
    {
     "name": "stdout",
     "output_type": "stream",
     "text": [
      "Program number 42 is Cello\n",
      "... and has instrument class Strings\n",
      "Bassoon has program number 70\n"
     ]
    }
   ],
   "source": [
    "print('Program number 42 is {}'.format(pretty_midi.program_to_instrument_name(42)))\n",
    "print('... and has instrument class {}'.format(pretty_midi.program_to_instrument_class(42)))\n",
    "print('Bassoon has program number {}'.format(pretty_midi.instrument_name_to_program('Bassoon')))"
   ]
  },
  {
   "cell_type": "code",
   "execution_count": 31,
   "metadata": {},
   "outputs": [
    {
     "name": "stdout",
     "output_type": "stream",
     "text": [
      "Splash Cymbal has note number 55 on drum instruments\n"
     ]
    }
   ],
   "source": [
    "print('Splash Cymbal has note number {} on drum instruments'.format(\n",
    "    pretty_midi.drum_name_to_note_number('Splash Cymbal')))"
   ]
  },
  {
   "cell_type": "code",
   "execution_count": 32,
   "metadata": {},
   "outputs": [
    {
     "name": "stdout",
     "output_type": "stream",
     "text": [
      "A pitch bend value of 1000 is 0.244 semitones\n",
      "To pitch bend by -1.3 semitones, use the value -5324\n"
     ]
    }
   ],
   "source": [
    "print('A pitch bend value of 1000 is {:.3f} semitones'.format(\n",
    "    pretty_midi.pitch_bend_to_semitones(1000)))\n",
    "print('To pitch bend by -1.3 semitones, use the value {}'.format(\n",
    "    pretty_midi.semitones_to_pitch_bend(-1.3)))"
   ]
  },
  {
   "cell_type": "markdown",
   "metadata": {},
   "source": [
    "## Additional resources\n",
    "\n",
    "As mentioned above, [the docs](http://craffel.github.io/pretty-midi/) cover all of the functionality in `pretty_midi`.  For additional usage examples, check the [examples directory](https://github.com/craffel/pretty-midi/tree/master/examples).  If you encounter an issue or have a feature request, feel free to [create an issue](https://github.com/craffel/pretty-midi/issues/new)."
   ]
  },
  {
   "cell_type": "code",
   "execution_count": 15,
   "metadata": {},
   "outputs": [
    {
     "name": "stderr",
     "output_type": "stream",
     "text": [
      "fluidsynth: warning: SDL2 not initialized, SDL2 audio driver won't be usable\n",
      "Cannot connect to server socket err = No such file or directory\n",
      "Cannot connect to server request channel\n",
      "exec of JACK server (command = \"/usr/bin/jackd\") failed: No such file or directory\n",
      "Cannot connect to server socket err = No such file or directory\n",
      "Cannot connect to server request channel\n",
      "Cannot connect to server socket err = No such file or directory\n",
      "Cannot connect to server request channel\n",
      "Cannot connect to server socket err = No such file or directory\n",
      "Cannot connect to server request channel\n",
      "Cannot connect to server socket err = No such file or directory\n",
      "Cannot connect to server request channel\n",
      "Cannot connect to server socket err = No such file or directory\n",
      "Cannot connect to server request channel\n",
      "jack server is not running or cannot be started\n",
      "JackShmReadWritePtr::~JackShmReadWritePtr - Init not done for -1, skipping unlock\n",
      "JackShmReadWritePtr::~JackShmReadWritePtr - Init not done for -1, skipping unlock\n",
      "fluidsynth: error: Failed to connect to Jack server.\n",
      "ALSA lib seq_hw.c:466:(snd_seq_hw_open) open /dev/snd/seq failed: No such file or directory\n",
      "fluidsynth: error: Error opening ALSA sequencer\n",
      "fluidsynth: error: fluid_sfloader_load(): Failed to open 'example.sf2': File does not exist.\n",
      "fluidsynth: error: Unable to open file 'example.sf2'\n",
      "fluidsynth: error: ipatch_file_open() failed with error: 'No such file or directory'\n",
      "fluidsynth: error: Failed to load SoundFont \"example.sf2\"\n",
      "fluidsynth: error: There is no preset with bank number 0 and preset number 0 in SoundFont -1\n"
     ]
    }
   ],
   "source": [
    "import time\n",
    "import fluidsynth\n",
    "\n",
    "fs = fluidsynth.Synth()\n",
    "fs.start()\n",
    "\n",
    "sfid = fs.sfload(\"example.sf2\")\n",
    "fs.program_select(0, sfid, 0, 0)\n",
    "\n",
    "fs.noteon(0, 60, 30)\n",
    "fs.noteon(0, 67, 30)\n",
    "fs.noteon(0, 76, 30)\n",
    "\n",
    "time.sleep(1.0)\n",
    "\n",
    "fs.noteoff(0, 60)\n",
    "fs.noteoff(0, 67)\n",
    "fs.noteoff(0, 76)\n",
    "\n",
    "time.sleep(1.0)\n",
    "\n",
    "fs.delete()"
   ]
  },
  {
   "cell_type": "code",
   "execution_count": null,
   "metadata": {},
   "outputs": [
    {
     "name": "stderr",
     "output_type": "stream",
     "text": [
      "ALSA lib confmisc.c:767:(parse_card) cannot find card '0'\n",
      "ALSA lib conf.c:4732:(_snd_config_evaluate) function snd_func_card_driver returned error: No such file or directory\n",
      "ALSA lib confmisc.c:392:(snd_func_concat) error evaluating strings\n",
      "ALSA lib conf.c:4732:(_snd_config_evaluate) function snd_func_concat returned error: No such file or directory\n",
      "ALSA lib confmisc.c:1246:(snd_func_refer) error evaluating name\n",
      "ALSA lib conf.c:4732:(_snd_config_evaluate) function snd_func_refer returned error: No such file or directory\n",
      "ALSA lib conf.c:5220:(snd_config_expand) Evaluate error: No such file or directory\n",
      "ALSA lib pcm.c:2642:(snd_pcm_open_noupdate) Unknown PCM sysdefault\n",
      "ALSA lib confmisc.c:767:(parse_card) cannot find card '0'\n",
      "ALSA lib conf.c:4732:(_snd_config_evaluate) function snd_func_card_driver returned error: No such file or directory\n",
      "ALSA lib confmisc.c:392:(snd_func_concat) error evaluating strings\n",
      "ALSA lib conf.c:4732:(_snd_config_evaluate) function snd_func_concat returned error: No such file or directory\n",
      "ALSA lib confmisc.c:1246:(snd_func_refer) error evaluating name\n",
      "ALSA lib conf.c:4732:(_snd_config_evaluate) function snd_func_refer returned error: No such file or directory\n",
      "ALSA lib conf.c:5220:(snd_config_expand) Evaluate error: No such file or directory\n",
      "ALSA lib pcm.c:2642:(snd_pcm_open_noupdate) Unknown PCM sysdefault\n",
      "ALSA lib pcm.c:2642:(snd_pcm_open_noupdate) Unknown PCM cards.pcm.front\n",
      "ALSA lib pcm.c:2642:(snd_pcm_open_noupdate) Unknown PCM cards.pcm.rear\n",
      "ALSA lib pcm.c:2642:(snd_pcm_open_noupdate) Unknown PCM cards.pcm.center_lfe\n",
      "ALSA lib pcm.c:2642:(snd_pcm_open_noupdate) Unknown PCM cards.pcm.side\n",
      "ALSA lib pcm.c:2642:(snd_pcm_open_noupdate) Unknown PCM cards.pcm.surround21\n",
      "ALSA lib pcm.c:2642:(snd_pcm_open_noupdate) Unknown PCM cards.pcm.surround21\n",
      "ALSA lib pcm.c:2642:(snd_pcm_open_noupdate) Unknown PCM cards.pcm.surround40\n",
      "ALSA lib pcm.c:2642:(snd_pcm_open_noupdate) Unknown PCM cards.pcm.surround41\n",
      "ALSA lib pcm.c:2642:(snd_pcm_open_noupdate) Unknown PCM cards.pcm.surround50\n",
      "ALSA lib pcm.c:2642:(snd_pcm_open_noupdate) Unknown PCM cards.pcm.surround51\n",
      "ALSA lib pcm.c:2642:(snd_pcm_open_noupdate) Unknown PCM cards.pcm.surround71\n",
      "ALSA lib pcm.c:2642:(snd_pcm_open_noupdate) Unknown PCM cards.pcm.iec958\n",
      "ALSA lib pcm.c:2642:(snd_pcm_open_noupdate) Unknown PCM cards.pcm.iec958\n",
      "ALSA lib pcm.c:2642:(snd_pcm_open_noupdate) Unknown PCM cards.pcm.iec958\n",
      "ALSA lib pcm.c:2642:(snd_pcm_open_noupdate) Unknown PCM cards.pcm.hdmi\n",
      "ALSA lib pcm.c:2642:(snd_pcm_open_noupdate) Unknown PCM cards.pcm.hdmi\n",
      "ALSA lib pcm.c:2642:(snd_pcm_open_noupdate) Unknown PCM cards.pcm.modem\n",
      "ALSA lib pcm.c:2642:(snd_pcm_open_noupdate) Unknown PCM cards.pcm.modem\n",
      "ALSA lib pcm.c:2642:(snd_pcm_open_noupdate) Unknown PCM cards.pcm.phoneline\n",
      "ALSA lib pcm.c:2642:(snd_pcm_open_noupdate) Unknown PCM cards.pcm.phoneline\n",
      "ALSA lib confmisc.c:767:(parse_card) cannot find card '0'\n",
      "ALSA lib conf.c:4732:(_snd_config_evaluate) function snd_func_card_driver returned error: No such file or directory\n",
      "ALSA lib confmisc.c:392:(snd_func_concat) error evaluating strings\n",
      "ALSA lib conf.c:4732:(_snd_config_evaluate) function snd_func_concat returned error: No such file or directory\n",
      "ALSA lib confmisc.c:1246:(snd_func_refer) error evaluating name\n",
      "ALSA lib conf.c:4732:(_snd_config_evaluate) function snd_func_refer returned error: No such file or directory\n",
      "ALSA lib conf.c:5220:(snd_config_expand) Evaluate error: No such file or directory\n",
      "ALSA lib pcm.c:2642:(snd_pcm_open_noupdate) Unknown PCM default\n",
      "ALSA lib confmisc.c:767:(parse_card) cannot find card '0'\n",
      "ALSA lib conf.c:4732:(_snd_config_evaluate) function snd_func_card_driver returned error: No such file or directory\n",
      "ALSA lib confmisc.c:392:(snd_func_concat) error evaluating strings\n",
      "ALSA lib conf.c:4732:(_snd_config_evaluate) function snd_func_concat returned error: No such file or directory\n",
      "ALSA lib confmisc.c:1246:(snd_func_refer) error evaluating name\n",
      "ALSA lib conf.c:4732:(_snd_config_evaluate) function snd_func_refer returned error: No such file or directory\n",
      "ALSA lib conf.c:5220:(snd_config_expand) Evaluate error: No such file or directory\n",
      "ALSA lib pcm.c:2642:(snd_pcm_open_noupdate) Unknown PCM default\n",
      "ALSA lib confmisc.c:767:(parse_card) cannot find card '0'\n",
      "ALSA lib conf.c:4732:(_snd_config_evaluate) function snd_func_card_driver returned error: No such file or directory\n",
      "ALSA lib confmisc.c:392:(snd_func_concat) error evaluating strings\n",
      "ALSA lib conf.c:4732:(_snd_config_evaluate) function snd_func_concat returned error: No such file or directory\n",
      "ALSA lib confmisc.c:1246:(snd_func_refer) error evaluating name\n",
      "ALSA lib conf.c:4732:(_snd_config_evaluate) function snd_func_refer returned error: No such file or directory\n",
      "ALSA lib conf.c:5220:(snd_config_expand) Evaluate error: No such file or directory\n",
      "ALSA lib pcm.c:2642:(snd_pcm_open_noupdate) Unknown PCM dmix\n"
     ]
    },
    {
     "ename": "OSError",
     "evalue": "[Errno -9996] Invalid output device (no default output device)",
     "output_type": "error",
     "traceback": [
      "\u001b[0;31m---------------------------------------------------------------------------\u001b[0m",
      "\u001b[0;31mOSError\u001b[0m                                   Traceback (most recent call last)",
      "Cell \u001b[0;32mIn[1], line 7\u001b[0m\n\u001b[1;32m      5\u001b[0m sfid \u001b[38;5;241m=\u001b[39m synth\u001b[38;5;241m.\u001b[39msfload(\u001b[38;5;124m\"\u001b[39m\u001b[38;5;124m/usr/share/sounds/sf2/FluidR3_GM.sf2\u001b[39m\u001b[38;5;124m\"\u001b[39m)\n\u001b[1;32m      6\u001b[0m synth\u001b[38;5;241m.\u001b[39mprogram_select(\u001b[38;5;241m0\u001b[39m, sfid, \u001b[38;5;241m0\u001b[39m, \u001b[38;5;241m0\u001b[39m)\n\u001b[0;32m----> 7\u001b[0m \u001b[43msynth\u001b[49m\u001b[38;5;241;43m.\u001b[39;49m\u001b[43mstart\u001b[49m\u001b[43m(\u001b[49m\u001b[43m)\u001b[49m\n\u001b[1;32m      9\u001b[0m time\u001b[38;5;241m.\u001b[39msleep(\u001b[38;5;241m0.5\u001b[39m)\n\u001b[1;32m     11\u001b[0m synth\u001b[38;5;241m.\u001b[39mnoteon(\u001b[38;5;241m0\u001b[39m, \u001b[38;5;241m48\u001b[39m, \u001b[38;5;241m100\u001b[39m)\n",
      "File \u001b[0;32m/usr/local/python/3.12.1/lib/python3.12/site-packages/tinysoundfont/synth.py:380\u001b[0m, in \u001b[0;36mSynth.start\u001b[0;34m(self, buffer_size, **kwargs)\u001b[0m\n\u001b[1;32m    377\u001b[0m     \u001b[38;5;28;01mreturn\u001b[39;00m (\u001b[38;5;28mbytes\u001b[39m(buffer), pyaudio\u001b[38;5;241m.\u001b[39mpaContinue)\n\u001b[1;32m    379\u001b[0m \u001b[38;5;28mself\u001b[39m\u001b[38;5;241m.\u001b[39mp \u001b[38;5;241m=\u001b[39m pyaudio\u001b[38;5;241m.\u001b[39mPyAudio()\n\u001b[0;32m--> 380\u001b[0m \u001b[38;5;28mself\u001b[39m\u001b[38;5;241m.\u001b[39mstream \u001b[38;5;241m=\u001b[39m \u001b[38;5;28;43mself\u001b[39;49m\u001b[38;5;241;43m.\u001b[39;49m\u001b[43mp\u001b[49m\u001b[38;5;241;43m.\u001b[39;49m\u001b[43mopen\u001b[49m\u001b[43m(\u001b[49m\n\u001b[1;32m    381\u001b[0m \u001b[43m    \u001b[49m\u001b[38;5;28;43mformat\u001b[39;49m\u001b[38;5;241;43m=\u001b[39;49m\u001b[43mpyaudio\u001b[49m\u001b[38;5;241;43m.\u001b[39;49m\u001b[43mpaFloat32\u001b[49m\u001b[43m,\u001b[49m\n\u001b[1;32m    382\u001b[0m \u001b[43m    \u001b[49m\u001b[43mchannels\u001b[49m\u001b[38;5;241;43m=\u001b[39;49m\u001b[38;5;241;43m2\u001b[39;49m\u001b[43m,\u001b[49m\n\u001b[1;32m    383\u001b[0m \u001b[43m    \u001b[49m\u001b[43mrate\u001b[49m\u001b[38;5;241;43m=\u001b[39;49m\u001b[38;5;28;43mself\u001b[39;49m\u001b[38;5;241;43m.\u001b[39;49m\u001b[43msamplerate\u001b[49m\u001b[43m,\u001b[49m\n\u001b[1;32m    384\u001b[0m \u001b[43m    \u001b[49m\u001b[43moutput\u001b[49m\u001b[38;5;241;43m=\u001b[39;49m\u001b[38;5;28;43;01mTrue\u001b[39;49;00m\u001b[43m,\u001b[49m\n\u001b[1;32m    385\u001b[0m \u001b[43m    \u001b[49m\u001b[43mstream_callback\u001b[49m\u001b[38;5;241;43m=\u001b[39;49m\u001b[43mcallback\u001b[49m\u001b[43m,\u001b[49m\n\u001b[1;32m    386\u001b[0m \u001b[43m    \u001b[49m\u001b[43mframes_per_buffer\u001b[49m\u001b[38;5;241;43m=\u001b[39;49m\u001b[43mbuffer_size\u001b[49m\u001b[43m,\u001b[49m\n\u001b[1;32m    387\u001b[0m \u001b[43m    \u001b[49m\u001b[38;5;241;43m*\u001b[39;49m\u001b[38;5;241;43m*\u001b[39;49m\u001b[43mkwargs\u001b[49m\n\u001b[1;32m    388\u001b[0m \u001b[43m\u001b[49m\u001b[43m)\u001b[49m\n",
      "File \u001b[0;32m/usr/local/python/3.12.1/lib/python3.12/site-packages/pyaudio/__init__.py:639\u001b[0m, in \u001b[0;36mPyAudio.open\u001b[0;34m(self, *args, **kwargs)\u001b[0m\n\u001b[1;32m    631\u001b[0m \u001b[38;5;28;01mdef\u001b[39;00m \u001b[38;5;21mopen\u001b[39m(\u001b[38;5;28mself\u001b[39m, \u001b[38;5;241m*\u001b[39margs, \u001b[38;5;241m*\u001b[39m\u001b[38;5;241m*\u001b[39mkwargs):\n\u001b[1;32m    632\u001b[0m \u001b[38;5;250m    \u001b[39m\u001b[38;5;124;03m\"\"\"Opens a new stream.\u001b[39;00m\n\u001b[1;32m    633\u001b[0m \n\u001b[1;32m    634\u001b[0m \u001b[38;5;124;03m    See constructor for :py:func:`PyAudio.Stream.__init__` for parameter\u001b[39;00m\n\u001b[0;32m   (...)\u001b[0m\n\u001b[1;32m    637\u001b[0m \u001b[38;5;124;03m    :returns: A new :py:class:`PyAudio.Stream`\u001b[39;00m\n\u001b[1;32m    638\u001b[0m \u001b[38;5;124;03m    \"\"\"\u001b[39;00m\n\u001b[0;32m--> 639\u001b[0m     stream \u001b[38;5;241m=\u001b[39m \u001b[43mPyAudio\u001b[49m\u001b[38;5;241;43m.\u001b[39;49m\u001b[43mStream\u001b[49m\u001b[43m(\u001b[49m\u001b[38;5;28;43mself\u001b[39;49m\u001b[43m,\u001b[49m\u001b[43m \u001b[49m\u001b[38;5;241;43m*\u001b[39;49m\u001b[43margs\u001b[49m\u001b[43m,\u001b[49m\u001b[43m \u001b[49m\u001b[38;5;241;43m*\u001b[39;49m\u001b[38;5;241;43m*\u001b[39;49m\u001b[43mkwargs\u001b[49m\u001b[43m)\u001b[49m\n\u001b[1;32m    640\u001b[0m     \u001b[38;5;28mself\u001b[39m\u001b[38;5;241m.\u001b[39m_streams\u001b[38;5;241m.\u001b[39madd(stream)\n\u001b[1;32m    641\u001b[0m     \u001b[38;5;28;01mreturn\u001b[39;00m stream\n",
      "File \u001b[0;32m/usr/local/python/3.12.1/lib/python3.12/site-packages/pyaudio/__init__.py:441\u001b[0m, in \u001b[0;36mPyAudio.Stream.__init__\u001b[0;34m(self, PA_manager, rate, channels, format, input, output, input_device_index, output_device_index, frames_per_buffer, start, input_host_api_specific_stream_info, output_host_api_specific_stream_info, stream_callback)\u001b[0m\n\u001b[1;32m    438\u001b[0m     arguments[\u001b[38;5;124m'\u001b[39m\u001b[38;5;124mstream_callback\u001b[39m\u001b[38;5;124m'\u001b[39m] \u001b[38;5;241m=\u001b[39m stream_callback\n\u001b[1;32m    440\u001b[0m \u001b[38;5;66;03m# calling pa.open returns a stream object\u001b[39;00m\n\u001b[0;32m--> 441\u001b[0m \u001b[38;5;28mself\u001b[39m\u001b[38;5;241m.\u001b[39m_stream \u001b[38;5;241m=\u001b[39m \u001b[43mpa\u001b[49m\u001b[38;5;241;43m.\u001b[39;49m\u001b[43mopen\u001b[49m\u001b[43m(\u001b[49m\u001b[38;5;241;43m*\u001b[39;49m\u001b[38;5;241;43m*\u001b[39;49m\u001b[43marguments\u001b[49m\u001b[43m)\u001b[49m\n\u001b[1;32m    443\u001b[0m \u001b[38;5;28mself\u001b[39m\u001b[38;5;241m.\u001b[39m_input_latency \u001b[38;5;241m=\u001b[39m \u001b[38;5;28mself\u001b[39m\u001b[38;5;241m.\u001b[39m_stream\u001b[38;5;241m.\u001b[39minputLatency\n\u001b[1;32m    444\u001b[0m \u001b[38;5;28mself\u001b[39m\u001b[38;5;241m.\u001b[39m_output_latency \u001b[38;5;241m=\u001b[39m \u001b[38;5;28mself\u001b[39m\u001b[38;5;241m.\u001b[39m_stream\u001b[38;5;241m.\u001b[39moutputLatency\n",
      "\u001b[0;31mOSError\u001b[0m: [Errno -9996] Invalid output device (no default output device)"
     ]
    }
   ],
   "source": [
    "import tinysoundfont\n",
    "import time\n",
    "\n",
    "synth = tinysoundfont.Synth()\n",
    "sfid = synth.sfload(\"/usr/share/sounds/sf2/FluidR3_GM.sf2\")\n",
    "synth.program_select(0, sfid, 0, 0)\n",
    "synth.start()\n",
    "\n",
    "time.sleep(0.5)\n",
    "\n",
    "synth.noteon(0, 48, 100)\n",
    "synth.noteon(0, 52, 100)\n",
    "synth.noteon(0, 55, 100)\n",
    "\n",
    "time.sleep(0.5)\n",
    "\n",
    "synth.noteoff(0, 48)\n",
    "synth.noteoff(0, 52)\n",
    "synth.noteoff(0, 55)\n",
    "\n",
    "time.sleep(0.5)"
   ]
  },
  {
   "cell_type": "code",
   "execution_count": 3,
   "metadata": {},
   "outputs": [
    {
     "ename": "AttributeError",
     "evalue": "module 'fluidsynth' has no attribute 'FluidSettings'",
     "output_type": "error",
     "traceback": [
      "\u001b[0;31m---------------------------------------------------------------------------\u001b[0m",
      "\u001b[0;31mAttributeError\u001b[0m                            Traceback (most recent call last)",
      "Cell \u001b[0;32mIn[3], line 4\u001b[0m\n\u001b[1;32m      1\u001b[0m \u001b[38;5;28;01mimport\u001b[39;00m \u001b[38;5;21;01mfluidsynth\u001b[39;00m\n\u001b[1;32m      3\u001b[0m \u001b[38;5;66;03m# Create a settings object\u001b[39;00m\n\u001b[0;32m----> 4\u001b[0m settings \u001b[38;5;241m=\u001b[39m \u001b[43mfluidsynth\u001b[49m\u001b[38;5;241;43m.\u001b[39;49m\u001b[43mFluidSettings\u001b[49m()\n\u001b[1;32m      6\u001b[0m \u001b[38;5;66;03m# Disable the MIDI subsystem to avoid using ALSA sequencer\u001b[39;00m\n\u001b[1;32m      7\u001b[0m settings\u001b[38;5;241m.\u001b[39mset(\u001b[38;5;124m'\u001b[39m\u001b[38;5;124mmidi.enabled\u001b[39m\u001b[38;5;124m'\u001b[39m, \u001b[38;5;124m'\u001b[39m\u001b[38;5;124mno\u001b[39m\u001b[38;5;124m'\u001b[39m)\n",
      "\u001b[0;31mAttributeError\u001b[0m: module 'fluidsynth' has no attribute 'FluidSettings'"
     ]
    }
   ],
   "source": [
    "import fluidsynth\n",
    "\n",
    "# Create a settings object\n",
    "settings = fluidsynth.FluidSettings()\n",
    "\n",
    "# Disable the MIDI subsystem to avoid using ALSA sequencer\n",
    "settings.set('midi.enabled', 'no')\n",
    "\n",
    "# Set the audio driver to 'file' to output to a WAV file\n",
    "settings.set('audio.driver', 'file')\n",
    "settings.set('audio.file.name', 'output.wav')\n",
    "\n",
    "# Initialize the synthesizer with the custom settings\n",
    "synth = fluidsynth.Synth(settings)\n",
    "synth.start()\n"
   ]
  },
  {
   "cell_type": "code",
   "execution_count": null,
   "metadata": {},
   "outputs": [],
   "source": []
  }
 ],
 "metadata": {
  "kernelspec": {
   "display_name": "Python 3",
   "language": "python",
   "name": "python3"
  },
  "language_info": {
   "codemirror_mode": {
    "name": "ipython",
    "version": 3
   },
   "file_extension": ".py",
   "mimetype": "text/x-python",
   "name": "python",
   "nbconvert_exporter": "python",
   "pygments_lexer": "ipython3",
   "version": "3.12.1"
  }
 },
 "nbformat": 4,
 "nbformat_minor": 2
}
